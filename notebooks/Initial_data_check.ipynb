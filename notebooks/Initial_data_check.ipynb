{
 "cells": [
  {
   "cell_type": "code",
   "execution_count": 1,
   "id": "d0bc9ce8-1cf8-446e-a62b-3417a710a6a8",
   "metadata": {},
   "outputs": [],
   "source": [
    "import json\n",
    "import os\n",
    "from pathlib import Path"
   ]
  },
  {
   "cell_type": "markdown",
   "id": "ab0887a8",
   "metadata": {},
   "source": [
    "Read NPZ files"
   ]
  },
  {
   "cell_type": "code",
   "execution_count": null,
   "id": "7ece018d-bf25-403e-b856-dac3bd411019",
   "metadata": {},
   "outputs": [],
   "source": [
    "\n",
    "from numpy import load\n",
    "\n",
    "data = load('../data/processed/hpo2hpo.npz')\n",
    "lst = data.files\n",
    "for item in lst:\n",
    "    print(item)\n",
    "    print(data[item])"
   ]
  },
  {
   "cell_type": "markdown",
   "id": "3290926c",
   "metadata": {},
   "source": [
    "Save HPO embeddings to TXT file"
   ]
  },
  {
   "cell_type": "code",
   "execution_count": 3,
   "id": "3678c220-54fc-44df-8ed1-35c602770a75",
   "metadata": {},
   "outputs": [
    {
     "name": "stdout",
     "output_type": "stream",
     "text": [
      "Embeddings saved to /home/abamini/PhenoGnet/Code/wandb/latest-run/files/gene_embedding.txt\n"
     ]
    }
   ],
   "source": [
    "import pickle\n",
    "import torch  # If using PyTorch tensors\n",
    "import numpy as np  # If using NumPy arrays\n",
    "\n",
    "# Load the pickle file\n",
    "pkl_path = \"/home/abamini/PhenoGnet/Code/wandb/latest-run/files/gene_embedding.pkl\"\n",
    "txt_path = \"/home/abamini/PhenoGnet/Code/wandb/latest-run/files/gene_embedding.txt\"\n",
    "\n",
    "with open(pkl_path, \"rb\") as pkl_file:\n",
    "    data = pickle.load(pkl_file)  # Load the tensor data\n",
    "\n",
    "# Ensure it's a NumPy array for easier handling\n",
    "if isinstance(data, torch.Tensor):\n",
    "    data = data.numpy()  # Convert PyTorch tensor to NumPy array\n",
    "\n",
    "elif not isinstance(data, np.ndarray):\n",
    "    raise TypeError(\"Loaded data is not a tensor or NumPy array.\")\n",
    "\n",
    "# Save embeddings line by line\n",
    "with open(txt_path, \"w\") as txt_file:\n",
    "    for embedding in data:\n",
    "        txt_file.write(\" \".join(map(str, embedding)) + \"\\n\")  # Save each embedding on a new line\n",
    "\n",
    "print(f\"Embeddings saved to {txt_path}\")\n"
   ]
  },
  {
   "cell_type": "markdown",
   "id": "0b0406a9",
   "metadata": {},
   "source": [
    "Evaluate Embeddings !!"
   ]
  },
  {
   "cell_type": "code",
   "execution_count": null,
   "id": "dfa16c17",
   "metadata": {},
   "outputs": [
    {
     "ename": "ValueError",
     "evalue": "not enough values to unpack (expected 2, got 1)",
     "output_type": "error",
     "traceback": [
      "\u001b[0;31m---------------------------------------------------------------------------\u001b[0m",
      "\u001b[0;31mValueError\u001b[0m                                Traceback (most recent call last)",
      "Cell \u001b[0;32mIn[5], line 56\u001b[0m\n\u001b[1;32m     54\u001b[0m \u001b[38;5;66;03m# Load data\u001b[39;00m\n\u001b[1;32m     55\u001b[0m embeddings \u001b[38;5;241m=\u001b[39m load_embeddings(pkl_path)\n\u001b[0;32m---> 56\u001b[0m hpo2id \u001b[38;5;241m=\u001b[39m load_hpo_to_id(hpo2id_path)\n\u001b[1;32m     58\u001b[0m \u001b[38;5;66;03m# Compute similarities\u001b[39;00m\n\u001b[1;32m     59\u001b[0m avg_similar \u001b[38;5;241m=\u001b[39m compute_avg_cosine_similarity(file_similar_path, embeddings, hpo2id)\n",
      "Cell \u001b[0;32mIn[5], line 22\u001b[0m, in \u001b[0;36mload_hpo_to_id\u001b[0;34m(hpo2id_path)\u001b[0m\n\u001b[1;32m     20\u001b[0m \u001b[38;5;28;01mwith\u001b[39;00m \u001b[38;5;28mopen\u001b[39m(hpo2id_path, \u001b[38;5;124m\"\u001b[39m\u001b[38;5;124mr\u001b[39m\u001b[38;5;124m\"\u001b[39m) \u001b[38;5;28;01mas\u001b[39;00m f:\n\u001b[1;32m     21\u001b[0m     \u001b[38;5;28;01mfor\u001b[39;00m line \u001b[38;5;129;01min\u001b[39;00m f:\n\u001b[0;32m---> 22\u001b[0m         hpo_id, idx \u001b[38;5;241m=\u001b[39m line\u001b[38;5;241m.\u001b[39mstrip()\u001b[38;5;241m.\u001b[39msplit(\u001b[38;5;124m\"\u001b[39m\u001b[38;5;130;01m\\t\u001b[39;00m\u001b[38;5;124m\"\u001b[39m)\n\u001b[1;32m     23\u001b[0m         hpo2id[hpo_id] \u001b[38;5;241m=\u001b[39m \u001b[38;5;28mint\u001b[39m(idx)\n\u001b[1;32m     24\u001b[0m \u001b[38;5;28;01mreturn\u001b[39;00m hpo2id\n",
      "\u001b[0;31mValueError\u001b[0m: not enough values to unpack (expected 2, got 1)"
     ]
    }
   ],
   "source": [
    "import pickle\n",
    "import numpy as np\n",
    "import matplotlib.pyplot as plt\n",
    "from sklearn.metrics.pairwise import cosine_similarity\n",
    "\n",
    "pkl_path = \"/home/abamini/PhenoGnet/Code/wandb/latest-run/files/gene_embedding.pkl\"\n",
    "hpo2id_path = \"/home/abamini/PhenoGnet/data/processed/hpo2id.txt\"\n",
    "file_similar_path = \"/home/abamini/PhenoGnet/data/processed/positive_hpo_terms.csv\"\n",
    "file_random_path = \"/home/abamini/PhenoGnet/data/processed/random_hpo_terms_1.csv\"\n",
    "\n",
    "\n",
    "def load_embeddings(pkl_path):\n",
    "    \"\"\"Load embeddings from a pickle file.\"\"\"\n",
    "    with open(pkl_path, \"rb\") as f:\n",
    "        return pickle.load(f)  # Assuming it's a NumPy array\n",
    "\n",
    "def load_hpo_to_id(hpo2id_path):\n",
    "    \"\"\"Load HPO-to-ID mapping from a text file.\"\"\"\n",
    "    hpo2id = {}\n",
    "    with open(hpo2id_path, \"r\") as f:\n",
    "        next(f)  # Skip the first line\n",
    "        for line in f:\n",
    "            hpo_id, idx = line.strip().split(\"\\t\")\n",
    "            hpo2id[hpo_id] = int(idx)\n",
    "    return hpo2id\n",
    "\n",
    "def compute_avg_cosine_similarity(file_path, embeddings, hpo2id):\n",
    "    \"\"\"Compute average cosine similarity for given HPO term pairs.\"\"\"\n",
    "    similarities = []\n",
    "    with open(file_path, \"r\") as f:\n",
    "        next(f, None)  # Skip header if present\n",
    "        for line in f:\n",
    "            hpo1, hpo2 = line.strip().split(\",\")\n",
    "            if hpo1 in hpo2id and hpo2 in hpo2id:\n",
    "                vec1 = embeddings[hpo2id[hpo1]].reshape(1, -1)\n",
    "                vec2 = embeddings[hpo2id[hpo2]].reshape(1, -1)\n",
    "                sim = cosine_similarity(vec1, vec2)[0, 0]\n",
    "                similarities.append(sim)\n",
    "    return np.mean(similarities) if similarities else 0\n",
    "\n",
    "def plot_similarity(avg_similar, avg_random):\n",
    "    \"\"\"Plot the average cosine similarity of similar and random HPO term pairs.\"\"\"\n",
    "    labels = [\"Similar Pairs\", \"Random Pairs\"]\n",
    "    values = [avg_similar, avg_random]\n",
    "    \n",
    "    plt.figure(figsize=(6, 4))\n",
    "    plt.bar(labels, values, color=[\"blue\", \"red\"])\n",
    "    plt.ylabel(\"Average Cosine Similarity\")\n",
    "    plt.title(\"Average Cosine Similarity of HPO Term Pairs\")\n",
    "    plt.ylim(0, 1)\n",
    "    plt.show()\n",
    "\n",
    "\n",
    "\n",
    "# Load data\n",
    "embeddings = load_embeddings(pkl_path)\n",
    "hpo2id = load_hpo_to_id(hpo2id_path)\n",
    "\n",
    "# Compute similarities\n",
    "avg_similar = compute_avg_cosine_similarity(file_similar_path, embeddings, hpo2id)\n",
    "avg_random = compute_avg_cosine_similarity(file_random_path, embeddings, hpo2id)\n",
    "\n",
    "# Plot results\n",
    "plot_similarity(avg_similar, avg_random)"
   ]
  }
 ],
 "metadata": {
  "kernelspec": {
   "display_name": "pytorch",
   "language": "python",
   "name": "python3"
  },
  "language_info": {
   "codemirror_mode": {
    "name": "ipython",
    "version": 3
   },
   "file_extension": ".py",
   "mimetype": "text/x-python",
   "name": "python",
   "nbconvert_exporter": "python",
   "pygments_lexer": "ipython3",
   "version": "3.11.11"
  }
 },
 "nbformat": 4,
 "nbformat_minor": 5
}
